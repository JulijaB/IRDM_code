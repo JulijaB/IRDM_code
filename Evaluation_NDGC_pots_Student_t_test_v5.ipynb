{
 "cells": [
  {
   "cell_type": "code",
   "execution_count": 14,
   "metadata": {
    "collapsed": true
   },
   "outputs": [],
   "source": [
    "import numpy as np\n",
    "import pandas as pd\n",
    "import math"
   ]
  },
  {
   "cell_type": "code",
   "execution_count": 31,
   "metadata": {
    "collapsed": false
   },
   "outputs": [
    {
     "name": "stderr",
     "output_type": "stream",
     "text": [
      "/anaconda/lib/python3.6/site-packages/ipykernel/__main__.py:2: ParserWarning: Falling back to the 'python' engine because the 'c' engine does not support regex separators (separators > 1 char and different from '\\s+' are interpreted as regex); you can avoid this warning by specifying engine='python'.\n",
      "  from ipykernel import kernelapp as app\n",
      "/anaconda/lib/python3.6/site-packages/ipykernel/__main__.py:3: ParserWarning: Falling back to the 'python' engine because the 'c' engine does not support regex separators (separators > 1 char and different from '\\s+' are interpreted as regex); you can avoid this warning by specifying engine='python'.\n",
      "  app.launch_new_instance()\n",
      "/anaconda/lib/python3.6/site-packages/ipykernel/__main__.py:4: ParserWarning: Falling back to the 'python' engine because the 'c' engine does not support regex separators (separators > 1 char and different from '\\s+' are interpreted as regex); you can avoid this warning by specifying engine='python'.\n",
      "/anaconda/lib/python3.6/site-packages/ipykernel/__main__.py:5: ParserWarning: Falling back to the 'python' engine because the 'c' engine does not support regex separators (separators > 1 char and different from '\\s+' are interpreted as regex); you can avoid this warning by specifying engine='python'.\n",
      "/anaconda/lib/python3.6/site-packages/ipykernel/__main__.py:6: ParserWarning: Falling back to the 'python' engine because the 'c' engine does not support regex separators (separators > 1 char and different from '\\s+' are interpreted as regex); you can avoid this warning by specifying engine='python'.\n"
     ]
    }
   ],
   "source": [
    "#LOAD: all Model Testing Files\n",
    "test_model_1 = pd.read_table('ModelsTestingFinal/test_model_trial5.txt', sep='  ', delimiter=None, header=None)\n",
    "test_model_2 = pd.read_table('ModelsTestingFinal/test_model_trial6.txt', sep='  ', delimiter=None, header=None)\n",
    "test_model_3 = pd.read_table('ModelsTestingFinal/test_model_trial7.txt', sep='  ', delimiter=None, header=None)\n",
    "test_model_4 = pd.read_table('ModelsTestingFinal/test_model_trial8.txt', sep='  ', delimiter=None, header=None)\n",
    "test_model_5 = pd.read_table('ModelsTestingFinal/test_model_trial9.txt', sep='  ', delimiter=None, header=None)\n",
    "\n",
    "t1 = test_model_1.drop([test_model_1.columns[0]], axis = 1)\n",
    "t2 = test_model_2.drop([test_model_2.columns[0]], axis = 1)\n",
    "t3 = test_model_3.drop([test_model_3.columns[0]], axis = 1)\n",
    "t4 = test_model_4.drop([test_model_4.columns[0]], axis = 1)\n",
    "t5 = test_model_5.drop([test_model_5.columns[0]], axis = 1)\n",
    "\n"
   ]
  },
  {
   "cell_type": "code",
   "execution_count": 32,
   "metadata": {
    "collapsed": false
   },
   "outputs": [
    {
     "data": {
      "text/html": [
       "<div>\n",
       "<table border=\"1\" class=\"dataframe\">\n",
       "  <thead>\n",
       "    <tr style=\"text-align: right;\">\n",
       "      <th></th>\n",
       "      <th>Model 1</th>\n",
       "      <th>Model 2</th>\n",
       "      <th>Model 3</th>\n",
       "      <th>Model 4</th>\n",
       "      <th>Model 5</th>\n",
       "    </tr>\n",
       "  </thead>\n",
       "  <tbody>\n",
       "    <tr>\n",
       "      <th>0</th>\n",
       "      <td>0.173312</td>\n",
       "      <td>0.173689</td>\n",
       "      <td>0.174311</td>\n",
       "      <td>0.192524</td>\n",
       "      <td>0.174573</td>\n",
       "    </tr>\n",
       "  </tbody>\n",
       "</table>\n",
       "</div>"
      ],
      "text/plain": [
       "    Model 1   Model 2   Model 3   Model 4   Model 5\n",
       "0  0.173312  0.173689  0.174311  0.192524  0.174573"
      ]
     },
     "execution_count": 32,
     "metadata": {},
     "output_type": "execute_result"
    }
   ],
   "source": [
    "#Average NDCG@10 for each model:\n",
    "\n",
    "avg_ndcg = pd.DataFrame ({'Model 1': [t1.iloc[2000][2]],\n",
    "                          'Model 2': [t2.iloc[2000][2]],\n",
    "                          'Model 3': [t3.iloc[2000][2]],\n",
    "                          'Model 4': [t4.iloc[2000][2]],\n",
    "                          'Model 5': [t5.iloc[2000][2]]})\n",
    "avg_ndcg"
   ]
  },
  {
   "cell_type": "code",
   "execution_count": 33,
   "metadata": {
    "collapsed": false
   },
   "outputs": [],
   "source": [
    "#dropping the avg NDCG@10 value:\n",
    "tm1 = t1.drop(test_model_1.index[-1])\n",
    "tm2 = t2.drop(test_model_2.index[-1])\n",
    "tm3 = t3.drop(test_model_3.index[-1])\n",
    "tm4 = t4.drop(test_model_4.index[-1])\n",
    "tm5 = t5.drop(test_model_5.index[-1])"
   ]
  },
  {
   "cell_type": "code",
   "execution_count": 34,
   "metadata": {
    "collapsed": false
   },
   "outputs": [
    {
     "data": {
      "image/png": "[encoded data removed]",
      "text/plain": [
       "<matplotlib.figure.Figure at 0x119125198>"
      ]
     },
     "metadata": {},
     "output_type": "display_data"
    }
   ],
   "source": [
    "import matplotlib.pyplot as plt\n",
    "tm1_x1 = tm1[1]\n",
    "tm1_y1 = tm1[2]\n",
    "figure = plt.plot(tm1_x1,tm1_y1)\n",
    "plt.ylabel('Average NDGC')\n",
    "plt.xlabel('quid')\n",
    "plt.title('Model 1')\n",
    "plt.show()\n",
    "\n"
   ]
  },
  {
   "cell_type": "code",
   "execution_count": 35,
   "metadata": {
    "collapsed": false
   },
   "outputs": [
    {
     "data": {
      "image/png": "[encoded data removed]",
      "text/plain": [
       "<matplotlib.figure.Figure at 0x1196ea470>"
      ]
     },
     "metadata": {},
     "output_type": "display_data"
    }
   ],
   "source": [
    "tm1_x1 = tm2[1]\n",
    "tm1_y1 = tm2[2]\n",
    "figure = plt.plot(tm1_x1,tm1_y1)\n",
    "plt.ylabel('Average NDGC')\n",
    "plt.xlabel('quid')\n",
    "plt.title('Model 2')\n",
    "plt.show()\n",
    "\n"
   ]
  },
  {
   "cell_type": "code",
   "execution_count": 36,
   "metadata": {
    "collapsed": false
   },
   "outputs": [
    {
     "data": {
      "image/png": "[encoded data removed]",
      "text/plain": [
       "<matplotlib.figure.Figure at 0x11946d828>"
      ]
     },
     "metadata": {},
     "output_type": "display_data"
    }
   ],
   "source": [
    "tm1_x1 = tm3[1]\n",
    "tm1_y1 = tm3[2]\n",
    "figure = plt.plot(tm1_x1,tm1_y1)\n",
    "plt.ylabel('Average NDGC')\n",
    "plt.xlabel('quid')\n",
    "plt.title('Model 3')\n",
    "plt.show()"
   ]
  },
  {
   "cell_type": "code",
   "execution_count": 37,
   "metadata": {
    "collapsed": false
   },
   "outputs": [
    {
     "data": {
      "image/png": "[encoded data removed]",
      "text/plain": [
       "<matplotlib.figure.Figure at 0x119b4e438>"
      ]
     },
     "metadata": {},
     "output_type": "display_data"
    }
   ],
   "source": [
    "tm1_x1 = tm4[1]\n",
    "tm1_y1 = tm4[2]\n",
    "figure = plt.plot(tm1_x1,tm1_y1)\n",
    "plt.ylabel('Average NDGC')\n",
    "plt.xlabel('quid')\n",
    "plt.title('Model 4')\n",
    "plt.show()"
   ]
  },
  {
   "cell_type": "code",
   "execution_count": 38,
   "metadata": {
    "collapsed": false
   },
   "outputs": [
    {
     "data": {
      "image/png": "[encoded data removed]",
      "text/plain": [
       "<matplotlib.figure.Figure at 0x119d644a8>"
      ]
     },
     "metadata": {},
     "output_type": "display_data"
    }
   ],
   "source": [
    "tm1_x1 = tm5[1]\n",
    "tm1_y1 = tm5[2]\n",
    "figure = plt.plot(tm1_x1,tm1_y1)\n",
    "plt.ylabel('Average NDGC')\n",
    "plt.xlabel('quid')\n",
    "plt.title('Model 5')\n",
    "plt.show()"
   ]
  },
  {
   "cell_type": "code",
   "execution_count": 39,
   "metadata": {
    "collapsed": false
   },
   "outputs": [
    {
     "data": {
      "text/html": [
       "<div>\n",
       "<table border=\"1\" class=\"dataframe\">\n",
       "  <thead>\n",
       "    <tr style=\"text-align: right;\">\n",
       "      <th></th>\n",
       "      <th>1</th>\n",
       "      <th>2</th>\n",
       "    </tr>\n",
       "  </thead>\n",
       "  <tbody>\n",
       "    <tr>\n",
       "      <th>0</th>\n",
       "      <td>13</td>\n",
       "      <td>0.219537</td>\n",
       "    </tr>\n",
       "    <tr>\n",
       "      <th>1</th>\n",
       "      <td>28</td>\n",
       "      <td>0.067457</td>\n",
       "    </tr>\n",
       "    <tr>\n",
       "      <th>2</th>\n",
       "      <td>43</td>\n",
       "      <td>0.041681</td>\n",
       "    </tr>\n",
       "    <tr>\n",
       "      <th>3</th>\n",
       "      <td>58</td>\n",
       "      <td>0.047446</td>\n",
       "    </tr>\n",
       "    <tr>\n",
       "      <th>4</th>\n",
       "      <td>73</td>\n",
       "      <td>0.137604</td>\n",
       "    </tr>\n",
       "  </tbody>\n",
       "</table>\n",
       "</div>"
      ],
      "text/plain": [
       "     1         2\n",
       "0   13  0.219537\n",
       "1   28  0.067457\n",
       "2   43  0.041681\n",
       "3   58  0.047446\n",
       "4   73  0.137604"
      ]
     },
     "execution_count": 39,
     "metadata": {},
     "output_type": "execute_result"
    }
   ],
   "source": [
    "tm1.head(5)"
   ]
  },
  {
   "cell_type": "code",
   "execution_count": 40,
   "metadata": {
    "collapsed": false
   },
   "outputs": [
    {
     "data": {
      "text/html": [
       "<div>\n",
       "<table border=\"1\" class=\"dataframe\">\n",
       "  <thead>\n",
       "    <tr style=\"text-align: right;\">\n",
       "      <th></th>\n",
       "      <th>quid</th>\n",
       "      <th>Model 1</th>\n",
       "      <th>Model 2</th>\n",
       "      <th>Model 3</th>\n",
       "      <th>Model 4</th>\n",
       "      <th>Model 5</th>\n",
       "    </tr>\n",
       "  </thead>\n",
       "  <tbody>\n",
       "    <tr>\n",
       "      <th>0</th>\n",
       "      <td>13</td>\n",
       "      <td>0.219537</td>\n",
       "      <td>0.297581</td>\n",
       "      <td>0.297581</td>\n",
       "      <td>0.114313</td>\n",
       "      <td>0.297581</td>\n",
       "    </tr>\n",
       "    <tr>\n",
       "      <th>1</th>\n",
       "      <td>28</td>\n",
       "      <td>0.067457</td>\n",
       "      <td>0.599874</td>\n",
       "      <td>0.471689</td>\n",
       "      <td>0.325915</td>\n",
       "      <td>0.471689</td>\n",
       "    </tr>\n",
       "    <tr>\n",
       "      <th>2</th>\n",
       "      <td>43</td>\n",
       "      <td>0.041681</td>\n",
       "      <td>0.044426</td>\n",
       "      <td>0.044426</td>\n",
       "      <td>0.079739</td>\n",
       "      <td>0.044426</td>\n",
       "    </tr>\n",
       "    <tr>\n",
       "      <th>3</th>\n",
       "      <td>58</td>\n",
       "      <td>0.047446</td>\n",
       "      <td>0.047446</td>\n",
       "      <td>0.047446</td>\n",
       "      <td>0.458709</td>\n",
       "      <td>0.047446</td>\n",
       "    </tr>\n",
       "    <tr>\n",
       "      <th>4</th>\n",
       "      <td>73</td>\n",
       "      <td>0.137604</td>\n",
       "      <td>0.036808</td>\n",
       "      <td>0.036808</td>\n",
       "      <td>0.162115</td>\n",
       "      <td>0.036808</td>\n",
       "    </tr>\n",
       "    <tr>\n",
       "      <th>5</th>\n",
       "      <td>88</td>\n",
       "      <td>0.148290</td>\n",
       "      <td>0.119605</td>\n",
       "      <td>0.119605</td>\n",
       "      <td>0.218468</td>\n",
       "      <td>0.119605</td>\n",
       "    </tr>\n",
       "    <tr>\n",
       "      <th>6</th>\n",
       "      <td>103</td>\n",
       "      <td>0.266264</td>\n",
       "      <td>0.198962</td>\n",
       "      <td>0.219605</td>\n",
       "      <td>0.297667</td>\n",
       "      <td>0.219605</td>\n",
       "    </tr>\n",
       "    <tr>\n",
       "      <th>7</th>\n",
       "      <td>118</td>\n",
       "      <td>0.021875</td>\n",
       "      <td>0.021875</td>\n",
       "      <td>0.021875</td>\n",
       "      <td>0.032572</td>\n",
       "      <td>0.021875</td>\n",
       "    </tr>\n",
       "    <tr>\n",
       "      <th>8</th>\n",
       "      <td>133</td>\n",
       "      <td>0.557617</td>\n",
       "      <td>0.323447</td>\n",
       "      <td>0.649100</td>\n",
       "      <td>0.388411</td>\n",
       "      <td>0.557617</td>\n",
       "    </tr>\n",
       "    <tr>\n",
       "      <th>9</th>\n",
       "      <td>148</td>\n",
       "      <td>0.000000</td>\n",
       "      <td>0.000000</td>\n",
       "      <td>0.000000</td>\n",
       "      <td>0.000000</td>\n",
       "      <td>0.000000</td>\n",
       "    </tr>\n",
       "  </tbody>\n",
       "</table>\n",
       "</div>"
      ],
      "text/plain": [
       "   quid   Model 1   Model 2   Model 3   Model 4   Model 5\n",
       "0    13  0.219537  0.297581  0.297581  0.114313  0.297581\n",
       "1    28  0.067457  0.599874  0.471689  0.325915  0.471689\n",
       "2    43  0.041681  0.044426  0.044426  0.079739  0.044426\n",
       "3    58  0.047446  0.047446  0.047446  0.458709  0.047446\n",
       "4    73  0.137604  0.036808  0.036808  0.162115  0.036808\n",
       "5    88  0.148290  0.119605  0.119605  0.218468  0.119605\n",
       "6   103  0.266264  0.198962  0.219605  0.297667  0.219605\n",
       "7   118  0.021875  0.021875  0.021875  0.032572  0.021875\n",
       "8   133  0.557617  0.323447  0.649100  0.388411  0.557617\n",
       "9   148  0.000000  0.000000  0.000000  0.000000  0.000000"
      ]
     },
     "execution_count": 40,
     "metadata": {},
     "output_type": "execute_result"
    }
   ],
   "source": [
    "tm = pd.concat([tm1, tm2, tm3, tm4, tm5], axis=1, join_axes=[tm1.index])\n",
    "\n",
    "tm.columns = [0,1,2,3,4,5,6,7,8,9]\n",
    "test_model_comp = tm.drop(tm.columns[[2,4,6,8]],axis = 1)\n",
    "test_model_comp.columns = ['quid','Model 1', 'Model 2', 'Model 3', 'Model 4', 'Model 5']\n",
    "test_model_comp.head(10)"
   ]
  },
  {
   "cell_type": "code",
   "execution_count": 73,
   "metadata": {
    "collapsed": false
   },
   "outputs": [],
   "source": [
    "#STUDENT'S T TEST:\n",
    "# Hypothesis H0 - two models are identical.\n",
    "# if Student_t output is:\n",
    "# a) True - H0 should be not rejected\n",
    "# b) False - H0 should be rejected\n",
    "\n",
    "\n",
    "def student_t (mod2,mod1):\n",
    "    difference = mod2 - mod1\n",
    "    mean = np.mean(difference, axis=0)\n",
    "    std_dev = np.std(difference,axis = 0)\n",
    "    N = len(difference)\n",
    "    sq_root_N = math.sqrt(N)\n",
    "    t = (mean/std_dev)*sq_root_N\n",
    "    alpha = 0.05\n",
    "    \"\"\" http://www.sjsu.edu/faculty/gerstman/StatPrimer/t-table.pdf\"\"\"\n",
    "    t_table = 1.960\n",
    "    #if t is below the value t_table H0 is true\n",
    "    H0 = t<=t_table\n",
    "    return H0\n"
   ]
  },
  {
   "cell_type": "code",
   "execution_count": 74,
   "metadata": {
    "collapsed": false
   },
   "outputs": [
    {
     "data": {
      "text/plain": [
       "(True, True, False, True)"
      ]
     },
     "execution_count": 74,
     "metadata": {},
     "output_type": "execute_result"
    }
   ],
   "source": [
    "# Model 1 - Model 2,3,4,5 Comparison\n",
    "Model1 = test_model_comp['Model 1']\n",
    "Model2 = test_model_comp['Model 2']\n",
    "Model3 = test_model_comp['Model 3']\n",
    "Model4 = test_model_comp['Model 4']\n",
    "Model5 = test_model_comp['Model 5']\n",
    "\n",
    "mod2_mod1 = student_t (Model2,Model1)\n",
    "mod3_mod1 = student_t (Model3,Model1)\n",
    "mod4_mod1 = student_t (Model4,Model1)\n",
    "mod5_mod1 = student_t (Model5,Model1)\n",
    "\n",
    "mod2_mod1, mod3_mod1,mod4_mod1, mod5_mod1"
   ]
  },
  {
   "cell_type": "code",
   "execution_count": 75,
   "metadata": {
    "collapsed": false
   },
   "outputs": [
    {
     "data": {
      "text/plain": [
       "(True, False, True)"
      ]
     },
     "execution_count": 75,
     "metadata": {},
     "output_type": "execute_result"
    }
   ],
   "source": [
    "# Model 2 - Model 3,4,5 Comparison\n",
    "mod3_mod2 = student_t (Model3,Model2)\n",
    "mod4_mod2 = student_t (Model4,Model2)\n",
    "mod5_mod2 = student_t (Model5,Model2)\n",
    "\n",
    "mod3_mod2, mod4_mod2, mod5_mod2"
   ]
  },
  {
   "cell_type": "code",
   "execution_count": 76,
   "metadata": {
    "collapsed": false
   },
   "outputs": [
    {
     "data": {
      "text/plain": [
       "(False, True)"
      ]
     },
     "execution_count": 76,
     "metadata": {},
     "output_type": "execute_result"
    }
   ],
   "source": [
    "# Model 3 - Model 4,5 Comparison\n",
    "mod4_mod3 = student_t (Model4,Model3)\n",
    "mod5_mod3 = student_t (Model5,Model3)\n",
    "\n",
    "mod4_mod3, mod5_mod3"
   ]
  },
  {
   "cell_type": "code",
   "execution_count": 77,
   "metadata": {
    "collapsed": false
   },
   "outputs": [
    {
     "data": {
      "text/plain": [
       "True"
      ]
     },
     "execution_count": 77,
     "metadata": {},
     "output_type": "execute_result"
    }
   ],
   "source": [
    "# Model 4 - Model 5 Comparison\n",
    "mod5_mod4 = student_t (Model5,Model4)\n",
    "\n",
    "mod5_mod4"
   ]
  },
  {
   "cell_type": "code",
   "execution_count": null,
   "metadata": {
    "collapsed": false
   },
   "outputs": [],
   "source": []
  },
  {
   "cell_type": "code",
   "execution_count": 78,
   "metadata": {
    "collapsed": false
   },
   "outputs": [
    {
     "data": {
      "text/html": [
       "<div>\n",
       "<table border=\"1\" class=\"dataframe\">\n",
       "  <thead>\n",
       "    <tr style=\"text-align: right;\">\n",
       "      <th></th>\n",
       "      <th>Model 1</th>\n",
       "      <th>Model 2</th>\n",
       "      <th>Model 3</th>\n",
       "      <th>Model 4</th>\n",
       "      <th>Model 5</th>\n",
       "    </tr>\n",
       "  </thead>\n",
       "  <tbody>\n",
       "    <tr>\n",
       "      <th>Model 1</th>\n",
       "      <td>-</td>\n",
       "      <td>True</td>\n",
       "      <td>True</td>\n",
       "      <td>False</td>\n",
       "      <td>True</td>\n",
       "    </tr>\n",
       "    <tr>\n",
       "      <th>Model 2</th>\n",
       "      <td>-</td>\n",
       "      <td>-</td>\n",
       "      <td>True</td>\n",
       "      <td>False</td>\n",
       "      <td>True</td>\n",
       "    </tr>\n",
       "    <tr>\n",
       "      <th>Model 3</th>\n",
       "      <td>-</td>\n",
       "      <td>-</td>\n",
       "      <td>-</td>\n",
       "      <td>False</td>\n",
       "      <td>True</td>\n",
       "    </tr>\n",
       "    <tr>\n",
       "      <th>Model 4</th>\n",
       "      <td>-</td>\n",
       "      <td>-</td>\n",
       "      <td>-</td>\n",
       "      <td>-</td>\n",
       "      <td>True</td>\n",
       "    </tr>\n",
       "    <tr>\n",
       "      <th>Model 5</th>\n",
       "      <td>-</td>\n",
       "      <td>-</td>\n",
       "      <td>-</td>\n",
       "      <td>-</td>\n",
       "      <td>-</td>\n",
       "    </tr>\n",
       "  </tbody>\n",
       "</table>\n",
       "</div>"
      ],
      "text/plain": [
       "        Model 1 Model 2 Model 3 Model 4 Model 5\n",
       "Model 1       -    True    True   False    True\n",
       "Model 2       -       -    True   False    True\n",
       "Model 3       -       -       -   False    True\n",
       "Model 4       -       -       -       -    True\n",
       "Model 5       -       -       -       -       -"
      ]
     },
     "execution_count": 78,
     "metadata": {},
     "output_type": "execute_result"
    }
   ],
   "source": [
    "#Data Table for the Student's t test output\n",
    "student_t = pd.DataFrame ({\n",
    "    'Model 5': ['-','-','-','-','-'],\n",
    "    'Model 4': ['-','-','-','-','-'],\n",
    "    'Model 3': ['-','-','-','-','-'],\n",
    "    'Model 2': ['-','-','-','-','-'],\n",
    "    'Model 1': ['-','-','-','-','-'],\n",
    "   })\n",
    "\n",
    "df = student_t.set_index([['Model 1', 'Model 2', 'Model 3', 'Model 4', 'Model 5']])\n",
    "\n",
    "df.set_value('Model 1', 'Model 2', mod2_mod1)\n",
    "df.set_value('Model 1', 'Model 3', mod3_mod1)\n",
    "df.set_value('Model 1', 'Model 4', mod4_mod1)\n",
    "df.set_value('Model 1', 'Model 5', mod5_mod1)\n",
    "\n",
    "df.set_value('Model 2', 'Model 3', mod3_mod2)\n",
    "df.set_value('Model 2', 'Model 4', mod4_mod2)\n",
    "df.set_value('Model 2', 'Model 5', mod5_mod2)\n",
    "\n",
    "df.set_value('Model 3', 'Model 4', mod4_mod3)\n",
    "df.set_value('Model 3', 'Model 5', mod5_mod3)\n",
    "\n",
    "df.set_value('Model 4', 'Model 5', mod5_mod4)\n",
    "\n",
    "df"
   ]
  },
  {
   "cell_type": "code",
   "execution_count": null,
   "metadata": {
    "collapsed": false
   },
   "outputs": [],
   "source": [
    "\"\"\"\n",
    "Student t test shows that the below models are different:\n",
    "\n",
    "Model 1 and Model 4\n",
    "Model 2 and Model 4\n",
    "Model 3 and Model 4\n",
    "\n",
    "Therefore Model 4 proves to be the best\n",
    "Model4 and Model 5 are similar\n",
    "\n",
    "\"\"\"\n",
    "\n",
    "avg_ndcg"
   ]
  },
  {
   "cell_type": "code",
   "execution_count": null,
   "metadata": {
    "collapsed": true
   },
   "outputs": [],
   "source": []
  }
 ],
 "metadata": {
  "kernelspec": {
   "display_name": "Python 3",
   "language": "python",
   "name": "python3"
  },
  "language_info": {
   "codemirror_mode": {
    "name": "ipython",
    "version": 3
   },
   "file_extension": ".py",
   "mimetype": "text/x-python",
   "name": "python",
   "nbconvert_exporter": "python",
   "pygments_lexer": "ipython3",
   "version": "3.6.0"
  }
 },
 "nbformat": 4,
 "nbformat_minor": 2
}
