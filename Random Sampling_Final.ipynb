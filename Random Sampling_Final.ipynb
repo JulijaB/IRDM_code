{
 "cells": [
  {
   "cell_type": "code",
   "execution_count": 11,
   "metadata": {
    "collapsed": false
   },
   "outputs": [],
   "source": [
    "import numpy as np\n",
    "import pandas as pd\n",
    "import random\n",
    "import itertools"
   ]
  },
  {
   "cell_type": "code",
   "execution_count": 4,
   "metadata": {
    "collapsed": false
   },
   "outputs": [],
   "source": [
    "#Combining all training data sets into one file:\n",
    "f1 = open(\"Fold1/train.txt\")\n",
    "f1_contents = f1.read()\n",
    "f1.close()\n",
    "\n",
    "f2 = open(\"Fold2/train.txt\")\n",
    "f2_contents = f2.read()\n",
    "f2.close()\n",
    "\n",
    "f3 = open(\"Fold3/train.txt\")\n",
    "f3_contents = f3.read()\n",
    "f3.close()\n",
    "\n",
    "f4 = open(\"Fold4/train.txt\")\n",
    "f4_contents = f4.read()\n",
    "f4.close()\n",
    "\n",
    "f5 = open(\"Fold5/train.txt\")\n",
    "f5_contents = f5.read()\n",
    "f5.close()\n",
    "\n",
    "combo = open(\"train_concat.txt\", \"w\") # open in `w` mode to write\n",
    "combo.write(f1_contents + f2_contents + f3_contents+f4_contents+f5_contents) # concatenate the contents\n",
    "combo.close()\n",
    "\n",
    "#Defining the size of the training sample file:\n",
    "train_dt = pd.read_table('Fold1/train.txt', sep=' ', delimiter=None, header=None)\n",
    "size = train_dt.shape[0]\n",
    "\n",
    "#Random sampling from the train_concat.txt file (containing all train.txt data from all Folds):\n",
    "def random_samples():\n",
    "    file = open('train_file.txt','w')\n",
    "    for i in range(size):\n",
    "        random_lines = random.choice(open(\"train_concat.txt\").readlines()) \n",
    "        file.write(random_lines)\n",
    "    file.close()\n",
    "    \n",
    "random_samples()"
   ]
  },
  {
   "cell_type": "code",
   "execution_count": null,
   "metadata": {
    "collapsed": false
   },
   "outputs": [],
   "source": []
  },
  {
   "cell_type": "code",
   "execution_count": null,
   "metadata": {
    "collapsed": false
   },
   "outputs": [],
   "source": []
  },
  {
   "cell_type": "code",
   "execution_count": null,
   "metadata": {
    "collapsed": false
   },
   "outputs": [],
   "source": []
  },
  {
   "cell_type": "code",
   "execution_count": null,
   "metadata": {
    "collapsed": true
   },
   "outputs": [],
   "source": []
  }
 ],
 "metadata": {
  "kernelspec": {
   "display_name": "Python 3",
   "language": "python",
   "name": "python3"
  },
  "language_info": {
   "codemirror_mode": {
    "name": "ipython",
    "version": 3
   },
   "file_extension": ".py",
   "mimetype": "text/x-python",
   "name": "python",
   "nbconvert_exporter": "python",
   "pygments_lexer": "ipython3",
   "version": "3.6.0"
  }
 },
 "nbformat": 4,
 "nbformat_minor": 2
}
